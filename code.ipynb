{
 "cells": [
  {
   "cell_type": "code",
   "execution_count": 1,
   "id": "599b4983-8721-47a4-8c57-e3fa162bb07d",
   "metadata": {},
   "outputs": [],
   "source": [
    "from langchain_groq import ChatGroq"
   ]
  },
  {
   "cell_type": "code",
   "execution_count": 3,
   "id": "0524c322-58af-40a9-89b6-f1e3992c2495",
   "metadata": {},
   "outputs": [
    {
     "name": "stdout",
     "output_type": "stream",
     "text": [
      "The first person to land on the moon was Neil Armstrong. He stepped onto the lunar surface on July 20, 1969, as part of the Apollo 11 mission.\n"
     ]
    }
   ],
   "source": [
    "llm = ChatGroq(\n",
    "    temperature=0, \n",
    "    groq_api_key='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', \n",
    "    model_name=\"llama-3.1-70b-versatile\"\n",
    ")\n",
    "\n",
    "response = llm.invoke(\"The first person to land on moon was ...\")\n",
    "print(response.content)"
   ]
  },
  {
   "cell_type": "code",
   "execution_count": 21,
   "id": "8b8bd14f-86d6-4ff5-983e-d9ff6733f078",
   "metadata": {},
   "outputs": [
    {
     "name": "stdout",
     "output_type": "stream",
     "text": [
      "Apply for Lead Software Engineer\n",
      "\n",
      "Search JobsSkip navigationSearch JobsNIKE, INC. JOBSContract JobsJoin The Talent CommunityLife @ NikeOverviewBenefitsBrandsOverviewJordanConverseTeamsOverviewAdministrative SupportAdvanced InnovationAir Manufacturing InnovationAviationCommunicationsCustomer ServiceDesignDigitalFacilitiesFinance & AccountingGovernment & Public AffairsHuman ResourcesInsights & AnalyticsLegalManufacturing & EngineeringMarketingMerchandisingPlanningPrivacyProcurementProduct Creation, Development & ManagementRetail CorporateRetail StoresSalesSocial & Community ImpactSports MarketingStrategic PlanningSupply Chain, Distribution & LogisticsSustainabilityTechnologyLocationsOverviewNike WHQNike New York HQEHQ: Hilversum, The NetherlandsELC: Laakdal, BelgiumGreater China HQDiversity, Equity & InclusionOverviewMilitary InclusionDisability InclusionIndigenous InclusionInternshipsTechnologyLead Software EngineerBeaverton, OregonBecome a Part of the NIKE, Inc. TeamNIKE, Inc. does more than outfit the world’s best athletes. It is a place to explore potential, obliterate boundaries and push out the edges of what can be. The company looks for people who can grow, think, dream and create. Its culture thrives by embracing diversity and rewarding imagination. The brand seeks achievers, leaders and visionaries. At NIKE, Inc. it’s about each person bringing skills and passion to a challenging and constantly evolving game.NIKE is a technology company. From our flagship website and five-star mobile apps to developing products, managing big data and providing leading edge engineering and systems support, our teams at NIKE Global Technology exist to revolutionize the future at the confluence of tech and sport. We invest and develop advances in technology and employ the most creative people in the world, and then give them the support to constantly innovate, iterate and serve consumers more directly and personally.  Our teams are innovative, diverse, multidisciplinary and collaborative, taking technology into the future and bringing the world with it.On our Finance Engineering Team, you will innovate and help deliver outcomes supporting our Finance Transformation Journey! We combine contemporary technology, agility, and a collaborative culture to deliver solutions that enable Nike, Inc.'s essential products and services. As a team, we are responsible for developing, deploying, and maintaining services that support complex financial transaction flows globally. Working with our team will be rewarding, collaborative, and definitely not just another job.WHO YOU’LL WORK WITHAs a TEAM we regularly interact with Finance and Technology partners globally. It is our responsibility to partner with program, product and engineering peers to ensure we are aligning appropriate technology outcomes with prioritized product initiatives. Beyond our team, collaboration with other global engineering teams, business stakeholders, and technical peers to ensure solutions delivered by our team is essential.Daily you will also work directly with multiple engineering squads mentoring and helping develop team technical talent aligned with Nike technology standards. You will regularly engage with the engineers on our collaborative, diverse DevOps squads to plan and deliver outcomes where financial service, security, reliability and performance globally at scale are expected.WHO WE ARE LOOKING FORWe’re looking for a Software Engineering Lead! The primary role on the team is to be hands-on, helping deliver the next generation of commerce platform technology while working to elevate engineering practices and team capability. This role will also help improve the technical aptitude of the team through pairing, code reviews, innovation time and design discussions.The candidate needs to have experience and an understanding of contemporary design patterns, development, testing, and observability techniques and tools in a DevOps environment. The candidate should also be interested in working collaboratively in a highly technical environment to deliver working software. A learning mindset, excellent problem-solving skills, and strong written and verbal communication are essential. A healthy TEAM culture is important to us. We are excited about people who value diversity and encourage all voices to be heard.What we’re looking for:Bachelor’s degree or equivalent combination of education, experience or trainingMinimum of 6 years of relevant work experience2+ years’ Technology Leadership or equivalent experience4+ years’ Node.js / JavaScript programming experience2+ years’ experience in building RESTful micro-services using Java or Node.jsDemonstrated experience delivering microservice architecture at scaleDeep understanding and practical application of modern build, continuous integration, and testing strategiesAWS Environment experience: EC2, SNS, SQS, DynamoDB, S3, CLITool familiarity: Jenkins, GitHub, IntelliJ, JiraDeep understanding and practical application of modern build, continuous integration, and testing strategiesStrong Agile practice experience with Scrum and DevOpsWHAT YOU’LL WORK ONYour primary role on the team will be to help multiple squads navigate technical design and implementation strategies. You will innovate, deliver high quality code, share best practices and make critical technical design choices. You will help coach the team to innovate, design, build, test, deploy and maintain sustainable technology. This is a hands-on role, writing code, doing peer reviews, and sharing other DevOps responsibilities, and understanding is essential.NIKE, Inc. is a growth company that looks for team members to grow with it. Nike offers a generous total rewards package, casual work environment, a diverse and inclusive culture, and an electric atmosphere for professional development. No matter the location, or the role, every Nike employee shares one galvanizing mission: To bring inspiration and innovation to every athlete* in the world.NIKE, Inc. is committed to employing a diverse workforce. Qualified applicants will receive consideration without regard to race, color, religion, sex, national origin, age, sexual orientation, gender identity, gender expression, veteran status, or disability.How We HireAt NIKE, Inc. we promise to provide a premium, inclusive, compelling and authentic candidate experience. Delivering on this promise means we allow you to be at your best — and to do that, you need to understand how the hiring process works. Transparency is key.\n",
      "\n",
      "* This overview explains our hiring process for corporate roles. Note there may be different hiring steps involved for non-corporate roles.Start nowBenefitsWhether it’s transportation or financial health, we continually invest in our employees to help them achieve greatness — inside and outside of work. All who work here should be able to realize their full potential.Employee Assistance ProgramEmployee Stock Purchase Plan (ESPP)HolidaysMedical PlanPaid Time Off (PTO)Product DiscountsSabbaticalsLearn moreFIND A STOREBECOME A MEMBERSIGN UP FOR EMAILSEND US FEEDBACKSTUDENT DISCOUNTSGET HELPGET HELPOrder StatusDeliveryReturnsPayment OptionsContact Us On Nike.com InquiriesContact Us On All Other InquiriesABOUT NIKEABOUT NIKENewsCareersInvestorsSustainabilityIndia© 2024 Nike, Inc. All Rights ReservedGuidesNike AdaptNike Air MaxNike FlyleatherNike PegasusNike Zoom FlyNike AirNike FlyEaseNike FreeNike ReactNike ZoomXNike Air Force 1Nike FlyknitNike JoyrideNike VaporflyTerms of SaleTerms of UseNike Privacy Policy\n"
     ]
    }
   ],
   "source": [
    "from langchain_community.document_loaders import WebBaseLoader\n",
    "\n",
    "loader = WebBaseLoader(\"https://jobs.nike.com/job/R-40387?from=job%20search%20funnel\")\n",
    "page_data = loader.load().pop().page_content\n",
    "print(page_data)"
   ]
  },
  {
   "cell_type": "code",
   "execution_count": 23,
   "id": "b9fe6f56-22fd-4d41-b9d3-2d93a59fe1a1",
   "metadata": {},
   "outputs": [
    {
     "data": {
      "text/plain": [
       "str"
      ]
     },
     "execution_count": 23,
     "metadata": {},
     "output_type": "execute_result"
    }
   ],
   "source": [
    "from langchain_core.prompts import PromptTemplate\n",
    "\n",
    "prompt_extract = PromptTemplate.from_template(\n",
    "        \"\"\"\n",
    "        ### SCRAPED TEXT FROM WEBSITE:\n",
    "        {page_data}\n",
    "        ### INSTRUCTION:\n",
    "        The scraped text is from the career's page of a website.\n",
    "        Your job is to extract the job postings and return them in JSON format containing the \n",
    "        following keys: `role`, `experience`, `skills` and `description`.\n",
    "        Only return the valid JSON.\n",
    "        ### VALID JSON (NO PREAMBLE):    \n",
    "        \"\"\"\n",
    ")\n",
    "\n",
    "chain_extract = prompt_extract | llm \n",
    "res = chain_extract.invoke(input={'page_data':page_data})\n",
    "type(res.content)"
   ]
  },
  {
   "cell_type": "code",
   "execution_count": 25,
   "id": "0f7a3e8f-691d-4673-b7c9-fb8094927c00",
   "metadata": {},
   "outputs": [
    {
     "data": {
      "text/plain": [
       "{'role': 'Lead Software Engineer',\n",
       " 'experience': {'minimum_years': 6,\n",
       "  'technology_leadership_years': 2,\n",
       "  'node_js_experience_years': 4,\n",
       "  'java_experience_years': 2,\n",
       "  'microservice_architecture_experience': 'at scale'},\n",
       " 'skills': ['Node.js',\n",
       "  'JavaScript',\n",
       "  'Java',\n",
       "  'RESTful micro-services',\n",
       "  'AWS Environment (EC2, SNS, SQS, DynamoDB, S3, CLI)',\n",
       "  'Jenkins',\n",
       "  'GitHub',\n",
       "  'IntelliJ',\n",
       "  'Jira',\n",
       "  'Agile practice (Scrum and DevOps)',\n",
       "  'Microservice architecture',\n",
       "  'Continuous integration',\n",
       "  'Testing strategies'],\n",
       " 'description': 'We’re looking for a Software Engineering Lead to help deliver the next generation of commerce platform technology while working to elevate engineering practices and team capability. This role will also help improve the technical aptitude of the team through pairing, code reviews, innovation time and design discussions.'}"
      ]
     },
     "execution_count": 25,
     "metadata": {},
     "output_type": "execute_result"
    }
   ],
   "source": [
    "from langchain_core.output_parsers import JsonOutputParser\n",
    "\n",
    "json_parser = JsonOutputParser()\n",
    "json_res = json_parser.parse(res.content)\n",
    "json_res"
   ]
  },
  {
   "cell_type": "code",
   "execution_count": 27,
   "id": "4caefbc3-9514-4fe6-ab2d-be55b4aff190",
   "metadata": {},
   "outputs": [
    {
     "data": {
      "text/plain": [
       "dict"
      ]
     },
     "execution_count": 27,
     "metadata": {},
     "output_type": "execute_result"
    }
   ],
   "source": [
    "type(json_res)"
   ]
  },
  {
   "cell_type": "code",
   "execution_count": 29,
   "id": "db5bbc5b-ea71-4381-9310-9dfad9bea571",
   "metadata": {},
   "outputs": [
    {
     "data": {
      "text/html": [
       "<div>\n",
       "<style scoped>\n",
       "    .dataframe tbody tr th:only-of-type {\n",
       "        vertical-align: middle;\n",
       "    }\n",
       "\n",
       "    .dataframe tbody tr th {\n",
       "        vertical-align: top;\n",
       "    }\n",
       "\n",
       "    .dataframe thead th {\n",
       "        text-align: right;\n",
       "    }\n",
       "</style>\n",
       "<table border=\"1\" class=\"dataframe\">\n",
       "  <thead>\n",
       "    <tr style=\"text-align: right;\">\n",
       "      <th></th>\n",
       "      <th>Techstack</th>\n",
       "      <th>Links</th>\n",
       "    </tr>\n",
       "  </thead>\n",
       "  <tbody>\n",
       "    <tr>\n",
       "      <th>0</th>\n",
       "      <td>React, Node.js, MongoDB</td>\n",
       "      <td>https://example.com/react-portfolio</td>\n",
       "    </tr>\n",
       "    <tr>\n",
       "      <th>1</th>\n",
       "      <td>Angular,.NET, SQL Server</td>\n",
       "      <td>https://example.com/angular-portfolio</td>\n",
       "    </tr>\n",
       "    <tr>\n",
       "      <th>2</th>\n",
       "      <td>Vue.js, Ruby on Rails, PostgreSQL</td>\n",
       "      <td>https://example.com/vue-portfolio</td>\n",
       "    </tr>\n",
       "    <tr>\n",
       "      <th>3</th>\n",
       "      <td>Python, Django, MySQL</td>\n",
       "      <td>https://example.com/python-portfolio</td>\n",
       "    </tr>\n",
       "    <tr>\n",
       "      <th>4</th>\n",
       "      <td>Java, Spring Boot, Oracle</td>\n",
       "      <td>https://example.com/java-portfolio</td>\n",
       "    </tr>\n",
       "    <tr>\n",
       "      <th>5</th>\n",
       "      <td>Flutter, Firebase, GraphQL</td>\n",
       "      <td>https://example.com/flutter-portfolio</td>\n",
       "    </tr>\n",
       "    <tr>\n",
       "      <th>6</th>\n",
       "      <td>WordPress, PHP, MySQL</td>\n",
       "      <td>https://example.com/wordpress-portfolio</td>\n",
       "    </tr>\n",
       "    <tr>\n",
       "      <th>7</th>\n",
       "      <td>Magento, PHP, MySQL</td>\n",
       "      <td>https://example.com/magento-portfolio</td>\n",
       "    </tr>\n",
       "    <tr>\n",
       "      <th>8</th>\n",
       "      <td>React Native, Node.js, MongoDB</td>\n",
       "      <td>https://example.com/react-native-portfolio</td>\n",
       "    </tr>\n",
       "    <tr>\n",
       "      <th>9</th>\n",
       "      <td>iOS, Swift, Core Data</td>\n",
       "      <td>https://example.com/ios-portfolio</td>\n",
       "    </tr>\n",
       "    <tr>\n",
       "      <th>10</th>\n",
       "      <td>Android, Java, Room Persistence</td>\n",
       "      <td>https://example.com/android-portfolio</td>\n",
       "    </tr>\n",
       "    <tr>\n",
       "      <th>11</th>\n",
       "      <td>Kotlin, Android, Firebase</td>\n",
       "      <td>https://example.com/kotlin-android-portfolio</td>\n",
       "    </tr>\n",
       "    <tr>\n",
       "      <th>12</th>\n",
       "      <td>Android TV, Kotlin, Android NDK</td>\n",
       "      <td>https://example.com/android-tv-portfolio</td>\n",
       "    </tr>\n",
       "    <tr>\n",
       "      <th>13</th>\n",
       "      <td>iOS, Swift, ARKit</td>\n",
       "      <td>https://example.com/ios-ar-portfolio</td>\n",
       "    </tr>\n",
       "    <tr>\n",
       "      <th>14</th>\n",
       "      <td>Cross-platform, Xamarin, Azure</td>\n",
       "      <td>https://example.com/xamarin-portfolio</td>\n",
       "    </tr>\n",
       "    <tr>\n",
       "      <th>15</th>\n",
       "      <td>Backend, Kotlin, Spring Boot</td>\n",
       "      <td>https://example.com/kotlin-backend-portfolio</td>\n",
       "    </tr>\n",
       "    <tr>\n",
       "      <th>16</th>\n",
       "      <td>Frontend, TypeScript, Angular</td>\n",
       "      <td>https://example.com/typescript-frontend-portfolio</td>\n",
       "    </tr>\n",
       "    <tr>\n",
       "      <th>17</th>\n",
       "      <td>Full-stack, JavaScript, Express.js</td>\n",
       "      <td>https://example.com/full-stack-js-portfolio</td>\n",
       "    </tr>\n",
       "    <tr>\n",
       "      <th>18</th>\n",
       "      <td>Machine Learning, Python, TensorFlow</td>\n",
       "      <td>https://example.com/ml-python-portfolio</td>\n",
       "    </tr>\n",
       "    <tr>\n",
       "      <th>19</th>\n",
       "      <td>DevOps, Jenkins, Docker</td>\n",
       "      <td>https://example.com/devops-portfolio</td>\n",
       "    </tr>\n",
       "  </tbody>\n",
       "</table>\n",
       "</div>"
      ],
      "text/plain": [
       "                               Techstack  \\\n",
       "0                React, Node.js, MongoDB   \n",
       "1               Angular,.NET, SQL Server   \n",
       "2      Vue.js, Ruby on Rails, PostgreSQL   \n",
       "3                  Python, Django, MySQL   \n",
       "4              Java, Spring Boot, Oracle   \n",
       "5             Flutter, Firebase, GraphQL   \n",
       "6                  WordPress, PHP, MySQL   \n",
       "7                    Magento, PHP, MySQL   \n",
       "8         React Native, Node.js, MongoDB   \n",
       "9                  iOS, Swift, Core Data   \n",
       "10       Android, Java, Room Persistence   \n",
       "11             Kotlin, Android, Firebase   \n",
       "12       Android TV, Kotlin, Android NDK   \n",
       "13                     iOS, Swift, ARKit   \n",
       "14        Cross-platform, Xamarin, Azure   \n",
       "15          Backend, Kotlin, Spring Boot   \n",
       "16         Frontend, TypeScript, Angular   \n",
       "17    Full-stack, JavaScript, Express.js   \n",
       "18  Machine Learning, Python, TensorFlow   \n",
       "19               DevOps, Jenkins, Docker   \n",
       "\n",
       "                                                Links  \n",
       "0                 https://example.com/react-portfolio  \n",
       "1               https://example.com/angular-portfolio  \n",
       "2                   https://example.com/vue-portfolio  \n",
       "3                https://example.com/python-portfolio  \n",
       "4                  https://example.com/java-portfolio  \n",
       "5               https://example.com/flutter-portfolio  \n",
       "6             https://example.com/wordpress-portfolio  \n",
       "7               https://example.com/magento-portfolio  \n",
       "8          https://example.com/react-native-portfolio  \n",
       "9                   https://example.com/ios-portfolio  \n",
       "10              https://example.com/android-portfolio  \n",
       "11       https://example.com/kotlin-android-portfolio  \n",
       "12           https://example.com/android-tv-portfolio  \n",
       "13               https://example.com/ios-ar-portfolio  \n",
       "14              https://example.com/xamarin-portfolio  \n",
       "15       https://example.com/kotlin-backend-portfolio  \n",
       "16  https://example.com/typescript-frontend-portfolio  \n",
       "17        https://example.com/full-stack-js-portfolio  \n",
       "18            https://example.com/ml-python-portfolio  \n",
       "19               https://example.com/devops-portfolio  "
      ]
     },
     "execution_count": 29,
     "metadata": {},
     "output_type": "execute_result"
    }
   ],
   "source": [
    "import pandas as pd\n",
    "\n",
    "df = pd.read_csv(\"my_portfolio.csv\")\n",
    "df"
   ]
  },
  {
   "cell_type": "code",
   "execution_count": 31,
   "id": "2f827c14-e288-4211-b4bb-f801d90219c7",
   "metadata": {},
   "outputs": [],
   "source": [
    "import uuid\n",
    "import chromadb\n",
    "\n",
    "client = chromadb.PersistentClient('vectorstore')\n",
    "collection = client.get_or_create_collection(name=\"portfolio\")\n",
    "\n",
    "if not collection.count():\n",
    "    for _, row in df.iterrows():\n",
    "        collection.add(documents=row[\"Techstack\"],\n",
    "                       metadatas={\"links\": row[\"Links\"]},\n",
    "                       ids=[str(uuid.uuid4())])"
   ]
  },
  {
   "cell_type": "code",
   "execution_count": 39,
   "id": "749e0c74-d67e-4cfa-8797-c57455d6006c",
   "metadata": {},
   "outputs": [
    {
     "data": {
      "text/plain": [
       "[[{'links': 'https://example.com/react-portfolio'},\n",
       "  {'links': 'https://example.com/full-stack-js-portfolio'}],\n",
       " [{'links': 'https://example.com/full-stack-js-portfolio'},\n",
       "  {'links': 'https://example.com/typescript-frontend-portfolio'}],\n",
       " [{'links': 'https://example.com/java-portfolio'},\n",
       "  {'links': 'https://example.com/android-portfolio'}],\n",
       " [{'links': 'https://example.com/android-portfolio'},\n",
       "  {'links': 'https://example.com/xamarin-portfolio'}],\n",
       " [{'links': 'https://example.com/react-portfolio'},\n",
       "  {'links': 'https://example.com/kotlin-backend-portfolio'}],\n",
       " [{'links': 'https://example.com/devops-portfolio'},\n",
       "  {'links': 'https://example.com/kotlin-backend-portfolio'}],\n",
       " [{'links': 'https://example.com/devops-portfolio'},\n",
       "  {'links': 'https://example.com/wordpress-portfolio'}],\n",
       " [{'links': 'https://example.com/java-portfolio'},\n",
       "  {'links': 'https://example.com/android-portfolio'}],\n",
       " [{'links': 'https://example.com/java-portfolio'},\n",
       "  {'links': 'https://example.com/devops-portfolio'}],\n",
       " [{'links': 'https://example.com/devops-portfolio'},\n",
       "  {'links': 'https://example.com/java-portfolio'}],\n",
       " [{'links': 'https://example.com/xamarin-portfolio'},\n",
       "  {'links': 'https://example.com/android-portfolio'}],\n",
       " [{'links': 'https://example.com/wordpress-portfolio'},\n",
       "  {'links': 'https://example.com/magento-portfolio'}],\n",
       " [{'links': 'https://example.com/android-portfolio'},\n",
       "  {'links': 'https://example.com/devops-portfolio'}]]"
      ]
     },
     "execution_count": 39,
     "metadata": {},
     "output_type": "execute_result"
    }
   ],
   "source": [
    "links = collection.query(query_texts=job['skills'], n_results=2).get('metadatas', [])\n",
    "links"
   ]
  },
  {
   "cell_type": "code",
   "execution_count": 35,
   "id": "f8c6b78a-53b7-43f4-95b2-577f203795b0",
   "metadata": {},
   "outputs": [
    {
     "data": {
      "text/plain": [
       "[{'role': 'Administrative Support',\n",
       "  'experience': '',\n",
       "  'skills': '',\n",
       "  'description': ''},\n",
       " {'role': 'Advanced Innovation',\n",
       "  'experience': '',\n",
       "  'skills': '',\n",
       "  'description': ''},\n",
       " {'role': 'Air Manufacturing Innovation',\n",
       "  'experience': '',\n",
       "  'skills': '',\n",
       "  'description': ''},\n",
       " {'role': 'Aviation', 'experience': '', 'skills': '', 'description': ''},\n",
       " {'role': 'Communications', 'experience': '', 'skills': '', 'description': ''},\n",
       " {'role': 'Customer Service',\n",
       "  'experience': '',\n",
       "  'skills': '',\n",
       "  'description': ''},\n",
       " {'role': 'Design', 'experience': '', 'skills': '', 'description': ''},\n",
       " {'role': 'Digital', 'experience': '', 'skills': '', 'description': ''},\n",
       " {'role': 'Facilities', 'experience': '', 'skills': '', 'description': ''},\n",
       " {'role': 'Finance & Accounting',\n",
       "  'experience': '',\n",
       "  'skills': '',\n",
       "  'description': ''},\n",
       " {'role': 'Government & Public Affairs',\n",
       "  'experience': '',\n",
       "  'skills': '',\n",
       "  'description': ''},\n",
       " {'role': 'Human Resources',\n",
       "  'experience': '',\n",
       "  'skills': '',\n",
       "  'description': ''},\n",
       " {'role': 'Insights & Analytics',\n",
       "  'experience': '',\n",
       "  'skills': '',\n",
       "  'description': ''},\n",
       " {'role': 'Legal', 'experience': '', 'skills': '', 'description': ''},\n",
       " {'role': 'Manufacturing & Engineering',\n",
       "  'experience': '',\n",
       "  'skills': '',\n",
       "  'description': ''},\n",
       " {'role': 'Marketing', 'experience': '', 'skills': '', 'description': ''},\n",
       " {'role': 'Merchandising', 'experience': '', 'skills': '', 'description': ''},\n",
       " {'role': 'Planning', 'experience': '', 'skills': '', 'description': ''},\n",
       " {'role': 'Privacy', 'experience': '', 'skills': '', 'description': ''},\n",
       " {'role': 'Procurement', 'experience': '', 'skills': '', 'description': ''},\n",
       " {'role': 'Product Creation, Development & Management',\n",
       "  'experience': '',\n",
       "  'skills': '',\n",
       "  'description': ''},\n",
       " {'role': 'Retail Corporate',\n",
       "  'experience': '',\n",
       "  'skills': '',\n",
       "  'description': ''},\n",
       " {'role': 'Retail Stores', 'experience': '', 'skills': '', 'description': ''},\n",
       " {'role': 'Sales', 'experience': '', 'skills': '', 'description': ''},\n",
       " {'role': 'Social & Community Impact',\n",
       "  'experience': '',\n",
       "  'skills': '',\n",
       "  'description': ''},\n",
       " {'role': 'Sports Marketing',\n",
       "  'experience': '',\n",
       "  'skills': '',\n",
       "  'description': ''},\n",
       " {'role': 'Strategic Planning',\n",
       "  'experience': '',\n",
       "  'skills': '',\n",
       "  'description': ''},\n",
       " {'role': 'Supply Chain, Distribution & Logistics',\n",
       "  'experience': '',\n",
       "  'skills': '',\n",
       "  'description': ''},\n",
       " {'role': 'Sustainability', 'experience': '', 'skills': '', 'description': ''},\n",
       " {'role': 'Technology', 'experience': '', 'skills': '', 'description': ''}]"
      ]
     },
     "execution_count": 35,
     "metadata": {},
     "output_type": "execute_result"
    }
   ],
   "source": [
    "job"
   ]
  },
  {
   "cell_type": "code",
   "execution_count": 43,
   "id": "ded6cf03-609a-459c-a822-79eadf8f4c3b",
   "metadata": {},
   "outputs": [
    {
     "data": {
      "text/plain": [
       "['Node.js',\n",
       " 'JavaScript',\n",
       " 'Java',\n",
       " 'RESTful micro-services',\n",
       " 'AWS Environment (EC2, SNS, SQS, DynamoDB, S3, CLI)',\n",
       " 'Jenkins',\n",
       " 'GitHub',\n",
       " 'IntelliJ',\n",
       " 'Jira',\n",
       " 'Agile practice (Scrum and DevOps)',\n",
       " 'Microservice architecture',\n",
       " 'Continuous integration',\n",
       " 'Testing strategies']"
      ]
     },
     "execution_count": 43,
     "metadata": {},
     "output_type": "execute_result"
    }
   ],
   "source": [
    "job = json_res\n",
    "job['skills']"
   ]
  },
  {
   "cell_type": "code",
   "execution_count": 45,
   "id": "fc0c318d-65e6-41a7-b489-f3bd9c9ded36",
   "metadata": {},
   "outputs": [
    {
     "name": "stdout",
     "output_type": "stream",
     "text": [
      "Subject: Expert Software Engineering Solutions for Your Commerce Platform Technology\n",
      "\n",
      "Dear Hiring Manager,\n",
      "\n",
      "I came across your job posting for a Lead Software Engineer and was impressed by the scope of the project. At AtliQ, we specialize in providing AI-powered software consulting services that can help you deliver the next generation of commerce platform technology.\n",
      "\n",
      "Our team of expert software engineers has extensive experience in developing scalable and efficient solutions using Node.js, Java, and microservice architecture. We have a proven track record of successfully implementing RESTful micro-services, AWS Environment (EC2, SNS, SQS, DynamoDB, S3, CLI), Jenkins, GitHub, IntelliJ, Jira, and Agile practices (Scrum and DevOps).\n",
      "\n",
      "We understand the importance of continuous integration, testing strategies, and elevating engineering practices and team capability. Our team is well-equipped to help improve the technical aptitude of your team through pairing, code reviews, innovation time, and design discussions.\n",
      "\n",
      "I'd like to highlight some of our relevant portfolio projects that demonstrate our expertise in software engineering:\n",
      "\n",
      "* Our React portfolio showcases our proficiency in building scalable and efficient front-end solutions: https://example.com/react-portfolio\n",
      "* Our Java portfolio highlights our experience in developing robust and reliable back-end solutions: https://example.com/java-portfolio\n",
      "* Our DevOps portfolio demonstrates our expertise in implementing continuous integration and deployment pipelines: https://example.com/devops-portfolio\n",
      "\n",
      "At AtliQ, we're committed to delivering high-quality solutions that meet our clients' needs. I'd love to schedule a call to discuss how our team can help you achieve your goals.\n",
      "\n",
      "Please let me know if you're interested in learning more about our services.\n",
      "\n",
      "Best regards,\n",
      "\n",
      "Mohan\n",
      "Business Development Executive\n",
      "AtliQ\n"
     ]
    }
   ],
   "source": [
    "prompt_email = PromptTemplate.from_template(\n",
    "        \"\"\"\n",
    "        ### JOB DESCRIPTION:\n",
    "        {job_description}\n",
    "        \n",
    "        ### INSTRUCTION:\n",
    "        You are Mohan, a business development executive at AtliQ. AtliQ is an AI & Software Consulting company dedicated to facilitating\n",
    "        the seamless integration of business processes through automated tools. \n",
    "        Over our experience, we have empowered numerous enterprises with tailored solutions, fostering scalability, \n",
    "        process optimization, cost reduction, and heightened overall efficiency. \n",
    "        Your job is to write a cold email to the client regarding the job mentioned above describing the capability of AtliQ \n",
    "        in fulfilling their needs.\n",
    "        Also add the most relevant ones from the following links to showcase Atliq's portfolio: {link_list}\n",
    "        Remember you are Mohan, BDE at AtliQ. \n",
    "        Do not provide a preamble.\n",
    "        ### EMAIL (NO PREAMBLE):\n",
    "        \n",
    "        \"\"\"\n",
    "        )\n",
    "\n",
    "chain_email = prompt_email | llm\n",
    "res = chain_email.invoke({\"job_description\": str(job), \"link_list\": links})\n",
    "print(res.content)"
   ]
  },
  {
   "cell_type": "code",
   "execution_count": null,
   "id": "8db357eb-4e0a-4281-9723-348caad50c38",
   "metadata": {},
   "outputs": [],
   "source": []
  }
 ],
 "metadata": {
  "kernelspec": {
   "display_name": "Python 3 (ipykernel)",
   "language": "python",
   "name": "python3"
  },
  "language_info": {
   "codemirror_mode": {
    "name": "ipython",
    "version": 3
   },
   "file_extension": ".py",
   "mimetype": "text/x-python",
   "name": "python",
   "nbconvert_exporter": "python",
   "pygments_lexer": "ipython3",
   "version": "3.12.4"
  }
 },
 "nbformat": 4,
 "nbformat_minor": 5
}
